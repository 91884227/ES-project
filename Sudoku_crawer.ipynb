{
 "cells": [
  {
   "cell_type": "markdown",
   "metadata": {},
   "source": [
    "# import tool"
   ]
  },
  {
   "cell_type": "code",
   "execution_count": 1,
   "metadata": {},
   "outputs": [],
   "source": [
    "from bs4 import BeautifulSoup\n",
    "from tqdm import tqdm\n",
    "import requests\n",
    "import numpy as np\n",
    "import pandas as pd\n",
    "from tqdm import tqdm\n",
    "import sys"
   ]
  },
  {
   "cell_type": "code",
   "execution_count": 59,
   "metadata": {},
   "outputs": [],
   "source": [
    "class sudoku_crawer:\n",
    "    def __init__(self, hardness, howmany):\n",
    "        self.url = \"http://nine.websudoku.com/?level=%d\" % hardness\n",
    "        self.headers = {\"User-Agent\": \"Mozilla/5.0 (Windows NT 10.0; Win64; x64) AppleWebKit/537.36 (KHTML, like Gecko) Chrome/81.0.4044.122 Safari/537.36\"}\n",
    "        self.howmuch_ = howmany # 到底要爬幾個\n",
    "        self.name_front = [\" \", \"Easy\", \"Medium\", \"Hard\", \"Evil\"][hardness]\n",
    "        self.name_index = 1\n",
    "    \n",
    "    def craw_one(self):\n",
    "        try:\n",
    "            r = requests.get(self.url, headers = self.headers)\n",
    "            soup =  BeautifulSoup(r.text)\n",
    "\n",
    "            buf = soup.find(id=\"cheat\").get(\"value\") # string\n",
    "            answer = np.array(list(buf)).astype(int) # string -> numpy int        \n",
    "\n",
    "            buf = soup.find(id=\"editmask\").get(\"value\") # string\n",
    "            mask = np.array(list(buf)).astype(int) # string -> numpy int\n",
    "\n",
    "            question = np.resize(answer * mask, (9, 9))\n",
    "\n",
    "            save_name = \"./data/%s_%d.npy\" % (self.name_front, self.name_index)\n",
    "            np.save(save_name, question)\n",
    "            self.name_index = self.name_index + 1\n",
    "        except:\n",
    "            print(\"error\")\n",
    "    \n",
    "    def craw_all(self):\n",
    "        for i in tqdm(range(self.howmuch_)):\n",
    "            self.craw_one()"
   ]
  },
  {
   "cell_type": "code",
   "execution_count": null,
   "metadata": {},
   "outputs": [],
   "source": [
    "if __name__ == \"__main__\": \n",
    "    hardness, howmany = int(sys.argv[1]), int(sys.argv[2])\n",
    "    crawer = sudoku_crawer(hardness, howmany)\n",
    "    crawer.craw_all()\n",
    "    "
   ]
  }
 ],
 "metadata": {
  "kernelspec": {
   "display_name": "Python 3",
   "language": "python",
   "name": "python3"
  },
  "language_info": {
   "codemirror_mode": {
    "name": "ipython",
    "version": 3
   },
   "file_extension": ".py",
   "mimetype": "text/x-python",
   "name": "python",
   "nbconvert_exporter": "python",
   "pygments_lexer": "ipython3",
   "version": "3.6.4"
  }
 },
 "nbformat": 4,
 "nbformat_minor": 2
}
